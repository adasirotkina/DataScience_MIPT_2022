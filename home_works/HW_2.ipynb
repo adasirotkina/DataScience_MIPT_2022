{
 "cells": [
  {
   "cell_type": "markdown",
   "metadata": {},
   "source": [
    "# Домашнее задание по курсу анализа данных # 2\n",
    "Версия от 14.11.2021\n",
    "\n",
    "Всего 50 баллов = 50 основных + 10 дополнительных\n",
    "\n",
    "**Оценка**  = (Количество баллов за работу*2 + 20)/10\n",
    "\n",
    "**Мягкий дедлайн: 06.12.2021  23:59**\n",
    "\n",
    "**Жесткий дедлайн: 11.12.2021  23:59**\n",
    "\n",
    "Присылать решение ссылкой на ваш **github** в телеграмм **@Aleron75** или на почту **milenkin.aa@phystech.edu**\n",
    "\n",
    "**Автор:** Миленькин Александр"
   ]
  },
  {
   "cell_type": "code",
   "execution_count": null,
   "metadata": {},
   "outputs": [],
   "source": []
  },
  {
   "cell_type": "markdown",
   "metadata": {},
   "source": [
    "# Парсим рейтинг преподавателей с Вики-Физтех"
   ]
  },
  {
   "cell_type": "markdown",
   "metadata": {},
   "source": [
    "<div class=\"alert alert-info\">\n",
    "    \n",
    "Итак, перед вами **VIKI-MIPT** - сборник отзывов о кафедрах и преподавателях МФТИ: ` http://wikimipt.org/wiki/ `\n",
    "\n",
    "Эта кладезь отзывов не раз давала студентам оценить психологический портрет потенциальных экзаменаторов и преподавателей. \n",
    "    \n",
    "    \n",
    "<img src=\"../lessons/images/wiki_mipt_front.PNG\" height=\"300\" width=\"1300\"> \n",
    "\n"
   ]
  },
  {
   "cell_type": "markdown",
   "metadata": {},
   "source": [
    "# Описание задачи: "
   ]
  },
  {
   "cell_type": "markdown",
   "metadata": {},
   "source": [
    "**Задача** - собрать данные по всем текущим преподавателям всех `институтских кафедр` МФТИ.\n",
    "\n",
    "Собранный датасет должен представлять из себя `.csv` файл со следующими полями:\n",
    "\n",
    "* `full_name` - ФИО преподавателя\n",
    "* `birth_day` - Дата рождения преподавателя\n",
    "*  `teach_place` - Кафедра\n",
    "*  `degree`- Ученая Степень\n",
    "* `knowledge` - Знания\n",
    "*  `teaching_skill` - Умение преподавать\t\n",
    "* `commication_skill` - В общении\t\n",
    "* `easy_exam` - «Халявность»\t\n",
    "* `overall_score` - Общая оценка"
   ]
  },
  {
   "cell_type": "markdown",
   "metadata": {},
   "source": [
    "<img src=\"../lessons/images/wiki_mipt_info.PNG\" height=\"300\" width=\"300\"> \n",
    "\n",
    "**Комментарий:** - Знание, умение преподавать, в общение, \"Халявность\" и Общая оценка можно найти странице каждого преподавателя. "
   ]
  },
  {
   "cell_type": "markdown",
   "metadata": {},
   "source": [
    "<div class=\"alert alert-warning\">\n",
    "    \n",
    "Финальный балл складывается из трех частей:\n",
    "\n",
    "* Cобранный датасет (выложить архивом на гитхаб)\n",
    "* python кода, которым был собран датасет (выложить на гитхаб)\n",
    "* Окуратный и понятный код с комментариями\n",
    "    \n",
    "    \n",
    "**Дополнительные + 10 баллов можно получить за кластеризацию преподавателей, используя только оценки из собранных данных**"
   ]
  },
  {
   "cell_type": "markdown",
   "metadata": {},
   "source": [
    "# Возможный алгоритм обхода для сбора данных:"
   ]
  },
  {
   "cell_type": "code",
   "execution_count": 1,
   "metadata": {},
   "outputs": [],
   "source": [
    "# 0 - Открываем с помощью Selenium клавную страницу вики-Физтех- http://wikimipt.org/wiki/   \n",
    "# 1 - Получаем список кафедр с главной страницу вики-Физтех    \n",
    "# Обходя список кафедр, \"проваливаемся\" в каждую страницу кафедру кликом по названию кафедры\n",
    "#     2 - Получаем список преподавателей\n",
    "#         Обходя список преподавателей \"Проваливаемся\" на страницу преподавателя по ФИО преподавателя\n",
    "#             3 - Получаем табличку данных с характеристмиками преподавателями и прочу необходимую информацию. \n",
    "#             Записываем в pandas dataframe\n",
    "# Сохраняем данные в .csv файл"
   ]
  },
  {
   "cell_type": "code",
   "execution_count": 2,
   "metadata": {},
   "outputs": [],
   "source": [
    "from selenium import webdriver\n",
    "from webdriver_manager.chrome import ChromeDriverManager"
   ]
  },
  {
   "cell_type": "code",
   "execution_count": 3,
   "metadata": {},
   "outputs": [
    {
     "name": "stderr",
     "output_type": "stream",
     "text": [
      "C:\\Users\\ASIROT~1\\AppData\\Local\\Temp/ipykernel_9252/1928405247.py:2: DeprecationWarning: executable_path has been deprecated, please pass in a Service object\n",
      "  browser = webdriver.Chrome(path_CDM)\n"
     ]
    },
    {
     "ename": "SessionNotCreatedException",
     "evalue": "Message: session not created: This version of ChromeDriver only supports Chrome version 94\nCurrent browser version is 107.0.5304.107 with binary path C:\\Program Files\\Google\\Chrome\\Application\\chrome.exe\nStacktrace:\nBacktrace:\n\tOrdinal0 [0x015BBDE3+2473443]\n\tOrdinal0 [0x01556661+2057825]\n\tOrdinal0 [0x01462438+1057848]\n\tOrdinal0 [0x0148054A+1181002]\n\tOrdinal0 [0x0147C435+1164341]\n\tOrdinal0 [0x01479CAF+1154223]\n\tOrdinal0 [0x014A9ADF+1350367]\n\tOrdinal0 [0x014A974A+1349450]\n\tOrdinal0 [0x014A55AB+1332651]\n\tOrdinal0 [0x01482104+1188100]\n\tOrdinal0 [0x01482F59+1191769]\n\tGetHandleVerifier [0x01742266+1549718]\n\tGetHandleVerifier [0x017ED4A7+2250711]\n\tGetHandleVerifier [0x0164718B+521403]\n\tGetHandleVerifier [0x01646229+517465]\n\tOrdinal0 [0x0155B79D+2078621]\n\tOrdinal0 [0x0155FB58+2095960]\n\tOrdinal0 [0x0155FC92+2096274]\n\tOrdinal0 [0x01569541+2135361]\n\tBaseThreadInitThunk [0x761B0419+25]\n\tRtlGetAppContainerNamedObjectPath [0x775F77FD+237]\n\tRtlGetAppContainerNamedObjectPath [0x775F77CD+189]\n",
     "output_type": "error",
     "traceback": [
      "\u001b[1;31m---------------------------------------------------------------------------\u001b[0m",
      "\u001b[1;31mSessionNotCreatedException\u001b[0m                Traceback (most recent call last)",
      "\u001b[1;32mC:\\Users\\ASIROT~1\\AppData\\Local\\Temp/ipykernel_9252/1928405247.py\u001b[0m in \u001b[0;36m<module>\u001b[1;34m\u001b[0m\n\u001b[0;32m      1\u001b[0m \u001b[0mpath_CDM\u001b[0m \u001b[1;33m=\u001b[0m \u001b[1;34m'../data/chromedriver'\u001b[0m\u001b[1;33m\u001b[0m\u001b[1;33m\u001b[0m\u001b[0m\n\u001b[1;32m----> 2\u001b[1;33m \u001b[0mbrowser\u001b[0m \u001b[1;33m=\u001b[0m \u001b[0mwebdriver\u001b[0m\u001b[1;33m.\u001b[0m\u001b[0mChrome\u001b[0m\u001b[1;33m(\u001b[0m\u001b[0mpath_CDM\u001b[0m\u001b[1;33m)\u001b[0m\u001b[1;33m\u001b[0m\u001b[1;33m\u001b[0m\u001b[0m\n\u001b[0m\u001b[0;32m      3\u001b[0m \u001b[0mbrowser\u001b[0m\u001b[1;33m.\u001b[0m\u001b[0mget\u001b[0m\u001b[1;33m(\u001b[0m\u001b[1;34m''\u001b[0m\u001b[1;33m)\u001b[0m\u001b[1;33m\u001b[0m\u001b[1;33m\u001b[0m\u001b[0m\n",
      "\u001b[1;32m~\\AppData\\Roaming\\Python\\Python39\\site-packages\\selenium\\webdriver\\chrome\\webdriver.py\u001b[0m in \u001b[0;36m__init__\u001b[1;34m(self, executable_path, port, options, service_args, desired_capabilities, service_log_path, chrome_options, service, keep_alive)\u001b[0m\n\u001b[0;32m     79\u001b[0m             \u001b[0mservice\u001b[0m \u001b[1;33m=\u001b[0m \u001b[0mService\u001b[0m\u001b[1;33m(\u001b[0m\u001b[0mexecutable_path\u001b[0m\u001b[1;33m,\u001b[0m \u001b[0mport\u001b[0m\u001b[1;33m,\u001b[0m \u001b[0mservice_args\u001b[0m\u001b[1;33m,\u001b[0m \u001b[0mservice_log_path\u001b[0m\u001b[1;33m)\u001b[0m\u001b[1;33m\u001b[0m\u001b[1;33m\u001b[0m\u001b[0m\n\u001b[0;32m     80\u001b[0m \u001b[1;33m\u001b[0m\u001b[0m\n\u001b[1;32m---> 81\u001b[1;33m         super().__init__(\n\u001b[0m\u001b[0;32m     82\u001b[0m             \u001b[0mDesiredCapabilities\u001b[0m\u001b[1;33m.\u001b[0m\u001b[0mCHROME\u001b[0m\u001b[1;33m[\u001b[0m\u001b[1;34m\"browserName\"\u001b[0m\u001b[1;33m]\u001b[0m\u001b[1;33m,\u001b[0m\u001b[1;33m\u001b[0m\u001b[1;33m\u001b[0m\u001b[0m\n\u001b[0;32m     83\u001b[0m             \u001b[1;34m\"goog\"\u001b[0m\u001b[1;33m,\u001b[0m\u001b[1;33m\u001b[0m\u001b[1;33m\u001b[0m\u001b[0m\n",
      "\u001b[1;32m~\\AppData\\Roaming\\Python\\Python39\\site-packages\\selenium\\webdriver\\chromium\\webdriver.py\u001b[0m in \u001b[0;36m__init__\u001b[1;34m(self, browser_name, vendor_prefix, port, options, service_args, desired_capabilities, service_log_path, service, keep_alive)\u001b[0m\n\u001b[0;32m    104\u001b[0m \u001b[1;33m\u001b[0m\u001b[0m\n\u001b[0;32m    105\u001b[0m         \u001b[1;32mtry\u001b[0m\u001b[1;33m:\u001b[0m\u001b[1;33m\u001b[0m\u001b[1;33m\u001b[0m\u001b[0m\n\u001b[1;32m--> 106\u001b[1;33m             super().__init__(\n\u001b[0m\u001b[0;32m    107\u001b[0m                 command_executor=ChromiumRemoteConnection(\n\u001b[0;32m    108\u001b[0m                     \u001b[0mremote_server_addr\u001b[0m\u001b[1;33m=\u001b[0m\u001b[0mself\u001b[0m\u001b[1;33m.\u001b[0m\u001b[0mservice\u001b[0m\u001b[1;33m.\u001b[0m\u001b[0mservice_url\u001b[0m\u001b[1;33m,\u001b[0m\u001b[1;33m\u001b[0m\u001b[1;33m\u001b[0m\u001b[0m\n",
      "\u001b[1;32m~\\AppData\\Roaming\\Python\\Python39\\site-packages\\selenium\\webdriver\\remote\\webdriver.py\u001b[0m in \u001b[0;36m__init__\u001b[1;34m(self, command_executor, desired_capabilities, browser_profile, proxy, keep_alive, file_detector, options)\u001b[0m\n\u001b[0;32m    286\u001b[0m         \u001b[0mself\u001b[0m\u001b[1;33m.\u001b[0m\u001b[0m_authenticator_id\u001b[0m \u001b[1;33m=\u001b[0m \u001b[1;32mNone\u001b[0m\u001b[1;33m\u001b[0m\u001b[1;33m\u001b[0m\u001b[0m\n\u001b[0;32m    287\u001b[0m         \u001b[0mself\u001b[0m\u001b[1;33m.\u001b[0m\u001b[0mstart_client\u001b[0m\u001b[1;33m(\u001b[0m\u001b[1;33m)\u001b[0m\u001b[1;33m\u001b[0m\u001b[1;33m\u001b[0m\u001b[0m\n\u001b[1;32m--> 288\u001b[1;33m         \u001b[0mself\u001b[0m\u001b[1;33m.\u001b[0m\u001b[0mstart_session\u001b[0m\u001b[1;33m(\u001b[0m\u001b[0mcapabilities\u001b[0m\u001b[1;33m,\u001b[0m \u001b[0mbrowser_profile\u001b[0m\u001b[1;33m)\u001b[0m\u001b[1;33m\u001b[0m\u001b[1;33m\u001b[0m\u001b[0m\n\u001b[0m\u001b[0;32m    289\u001b[0m \u001b[1;33m\u001b[0m\u001b[0m\n\u001b[0;32m    290\u001b[0m     \u001b[1;32mdef\u001b[0m \u001b[0m__repr__\u001b[0m\u001b[1;33m(\u001b[0m\u001b[0mself\u001b[0m\u001b[1;33m)\u001b[0m\u001b[1;33m:\u001b[0m\u001b[1;33m\u001b[0m\u001b[1;33m\u001b[0m\u001b[0m\n",
      "\u001b[1;32m~\\AppData\\Roaming\\Python\\Python39\\site-packages\\selenium\\webdriver\\remote\\webdriver.py\u001b[0m in \u001b[0;36mstart_session\u001b[1;34m(self, capabilities, browser_profile)\u001b[0m\n\u001b[0;32m    379\u001b[0m         \u001b[0mw3c_caps\u001b[0m \u001b[1;33m=\u001b[0m \u001b[0m_make_w3c_caps\u001b[0m\u001b[1;33m(\u001b[0m\u001b[0mcapabilities\u001b[0m\u001b[1;33m)\u001b[0m\u001b[1;33m\u001b[0m\u001b[1;33m\u001b[0m\u001b[0m\n\u001b[0;32m    380\u001b[0m         \u001b[0mparameters\u001b[0m \u001b[1;33m=\u001b[0m \u001b[1;33m{\u001b[0m\u001b[1;34m\"capabilities\"\u001b[0m\u001b[1;33m:\u001b[0m \u001b[0mw3c_caps\u001b[0m\u001b[1;33m}\u001b[0m\u001b[1;33m\u001b[0m\u001b[1;33m\u001b[0m\u001b[0m\n\u001b[1;32m--> 381\u001b[1;33m         \u001b[0mresponse\u001b[0m \u001b[1;33m=\u001b[0m \u001b[0mself\u001b[0m\u001b[1;33m.\u001b[0m\u001b[0mexecute\u001b[0m\u001b[1;33m(\u001b[0m\u001b[0mCommand\u001b[0m\u001b[1;33m.\u001b[0m\u001b[0mNEW_SESSION\u001b[0m\u001b[1;33m,\u001b[0m \u001b[0mparameters\u001b[0m\u001b[1;33m)\u001b[0m\u001b[1;33m\u001b[0m\u001b[1;33m\u001b[0m\u001b[0m\n\u001b[0m\u001b[0;32m    382\u001b[0m         \u001b[1;32mif\u001b[0m \u001b[1;34m\"sessionId\"\u001b[0m \u001b[1;32mnot\u001b[0m \u001b[1;32min\u001b[0m \u001b[0mresponse\u001b[0m\u001b[1;33m:\u001b[0m\u001b[1;33m\u001b[0m\u001b[1;33m\u001b[0m\u001b[0m\n\u001b[0;32m    383\u001b[0m             \u001b[0mresponse\u001b[0m \u001b[1;33m=\u001b[0m \u001b[0mresponse\u001b[0m\u001b[1;33m[\u001b[0m\u001b[1;34m\"value\"\u001b[0m\u001b[1;33m]\u001b[0m\u001b[1;33m\u001b[0m\u001b[1;33m\u001b[0m\u001b[0m\n",
      "\u001b[1;32m~\\AppData\\Roaming\\Python\\Python39\\site-packages\\selenium\\webdriver\\remote\\webdriver.py\u001b[0m in \u001b[0;36mexecute\u001b[1;34m(self, driver_command, params)\u001b[0m\n\u001b[0;32m    442\u001b[0m         \u001b[0mresponse\u001b[0m \u001b[1;33m=\u001b[0m \u001b[0mself\u001b[0m\u001b[1;33m.\u001b[0m\u001b[0mcommand_executor\u001b[0m\u001b[1;33m.\u001b[0m\u001b[0mexecute\u001b[0m\u001b[1;33m(\u001b[0m\u001b[0mdriver_command\u001b[0m\u001b[1;33m,\u001b[0m \u001b[0mparams\u001b[0m\u001b[1;33m)\u001b[0m\u001b[1;33m\u001b[0m\u001b[1;33m\u001b[0m\u001b[0m\n\u001b[0;32m    443\u001b[0m         \u001b[1;32mif\u001b[0m \u001b[0mresponse\u001b[0m\u001b[1;33m:\u001b[0m\u001b[1;33m\u001b[0m\u001b[1;33m\u001b[0m\u001b[0m\n\u001b[1;32m--> 444\u001b[1;33m             \u001b[0mself\u001b[0m\u001b[1;33m.\u001b[0m\u001b[0merror_handler\u001b[0m\u001b[1;33m.\u001b[0m\u001b[0mcheck_response\u001b[0m\u001b[1;33m(\u001b[0m\u001b[0mresponse\u001b[0m\u001b[1;33m)\u001b[0m\u001b[1;33m\u001b[0m\u001b[1;33m\u001b[0m\u001b[0m\n\u001b[0m\u001b[0;32m    445\u001b[0m             \u001b[0mresponse\u001b[0m\u001b[1;33m[\u001b[0m\u001b[1;34m\"value\"\u001b[0m\u001b[1;33m]\u001b[0m \u001b[1;33m=\u001b[0m \u001b[0mself\u001b[0m\u001b[1;33m.\u001b[0m\u001b[0m_unwrap_value\u001b[0m\u001b[1;33m(\u001b[0m\u001b[0mresponse\u001b[0m\u001b[1;33m.\u001b[0m\u001b[0mget\u001b[0m\u001b[1;33m(\u001b[0m\u001b[1;34m\"value\"\u001b[0m\u001b[1;33m,\u001b[0m \u001b[1;32mNone\u001b[0m\u001b[1;33m)\u001b[0m\u001b[1;33m)\u001b[0m\u001b[1;33m\u001b[0m\u001b[1;33m\u001b[0m\u001b[0m\n\u001b[0;32m    446\u001b[0m             \u001b[1;32mreturn\u001b[0m \u001b[0mresponse\u001b[0m\u001b[1;33m\u001b[0m\u001b[1;33m\u001b[0m\u001b[0m\n",
      "\u001b[1;32m~\\AppData\\Roaming\\Python\\Python39\\site-packages\\selenium\\webdriver\\remote\\errorhandler.py\u001b[0m in \u001b[0;36mcheck_response\u001b[1;34m(self, response)\u001b[0m\n\u001b[0;32m    247\u001b[0m                 \u001b[0malert_text\u001b[0m \u001b[1;33m=\u001b[0m \u001b[0mvalue\u001b[0m\u001b[1;33m[\u001b[0m\u001b[1;34m\"alert\"\u001b[0m\u001b[1;33m]\u001b[0m\u001b[1;33m.\u001b[0m\u001b[0mget\u001b[0m\u001b[1;33m(\u001b[0m\u001b[1;34m\"text\"\u001b[0m\u001b[1;33m)\u001b[0m\u001b[1;33m\u001b[0m\u001b[1;33m\u001b[0m\u001b[0m\n\u001b[0;32m    248\u001b[0m             \u001b[1;32mraise\u001b[0m \u001b[0mexception_class\u001b[0m\u001b[1;33m(\u001b[0m\u001b[0mmessage\u001b[0m\u001b[1;33m,\u001b[0m \u001b[0mscreen\u001b[0m\u001b[1;33m,\u001b[0m \u001b[0mstacktrace\u001b[0m\u001b[1;33m,\u001b[0m \u001b[0malert_text\u001b[0m\u001b[1;33m)\u001b[0m  \u001b[1;31m# type: ignore[call-arg]  # mypy is not smart enough here\u001b[0m\u001b[1;33m\u001b[0m\u001b[1;33m\u001b[0m\u001b[0m\n\u001b[1;32m--> 249\u001b[1;33m         \u001b[1;32mraise\u001b[0m \u001b[0mexception_class\u001b[0m\u001b[1;33m(\u001b[0m\u001b[0mmessage\u001b[0m\u001b[1;33m,\u001b[0m \u001b[0mscreen\u001b[0m\u001b[1;33m,\u001b[0m \u001b[0mstacktrace\u001b[0m\u001b[1;33m)\u001b[0m\u001b[1;33m\u001b[0m\u001b[1;33m\u001b[0m\u001b[0m\n\u001b[0m",
      "\u001b[1;31mSessionNotCreatedException\u001b[0m: Message: session not created: This version of ChromeDriver only supports Chrome version 94\nCurrent browser version is 107.0.5304.107 with binary path C:\\Program Files\\Google\\Chrome\\Application\\chrome.exe\nStacktrace:\nBacktrace:\n\tOrdinal0 [0x015BBDE3+2473443]\n\tOrdinal0 [0x01556661+2057825]\n\tOrdinal0 [0x01462438+1057848]\n\tOrdinal0 [0x0148054A+1181002]\n\tOrdinal0 [0x0147C435+1164341]\n\tOrdinal0 [0x01479CAF+1154223]\n\tOrdinal0 [0x014A9ADF+1350367]\n\tOrdinal0 [0x014A974A+1349450]\n\tOrdinal0 [0x014A55AB+1332651]\n\tOrdinal0 [0x01482104+1188100]\n\tOrdinal0 [0x01482F59+1191769]\n\tGetHandleVerifier [0x01742266+1549718]\n\tGetHandleVerifier [0x017ED4A7+2250711]\n\tGetHandleVerifier [0x0164718B+521403]\n\tGetHandleVerifier [0x01646229+517465]\n\tOrdinal0 [0x0155B79D+2078621]\n\tOrdinal0 [0x0155FB58+2095960]\n\tOrdinal0 [0x0155FC92+2096274]\n\tOrdinal0 [0x01569541+2135361]\n\tBaseThreadInitThunk [0x761B0419+25]\n\tRtlGetAppContainerNamedObjectPath [0x775F77FD+237]\n\tRtlGetAppContainerNamedObjectPath [0x775F77CD+189]\n"
     ]
    }
   ],
   "source": [
    "path_CDM = '../data/chromedriver'\n",
    "browser = webdriver.Chrome(path_CDM)\n",
    "browser.get('')"
   ]
  },
  {
   "cell_type": "code",
   "execution_count": null,
   "metadata": {},
   "outputs": [],
   "source": [
    "try:\n",
    "\n",
    "    browser = webdriver.Chrome(path_CDM)\n",
    "    browser.get('https://wiki.mipt.tech/index.php/%D0%97%D0%B0%D0%B3%D0%BB%D0%B0%D0%B2%D0%BD%D0%B0%D1%8F_%D1%81%D1%82%D1%80%D0%B0%D0%BD%D0%B8%D1%86%D0%B0') #Открыл \n",
    "    time.sleep(1)\n",
    "  \n",
    "    titles = browser.find_elements_by_xpath('//*[@class=\"product_card-title\"]/a')\n",
    "    \n",
    "    \n",
    "    #prices = browser.find_elements_by_xpath('//*[@id=\"insales-section-collection\"]/div/div/div[1]/')\n",
    "    prices = browser.find_elements_by_xpath('//*[@class=\"product_card-prices\"]/span')\n",
    "    print(len(titles))\n",
    "    \n",
    "    # time.sleep(1)\n",
    "    titles = [i.text for i in titles]\n",
    "    prices = [i.text for i in prices]\n",
    "    \n",
    "except ElementClickInterceptedException:\n",
    "    print('Ошибка')\n",
    "    print(e)\n",
    "    \n",
    "finally:\n",
    "    # успеваем скопировать код за 30 секунд\n",
    "    time.sleep(1)\n",
    "    # закрываем браузер после всех манипуляций\n",
    "    browser.quit()\n",
    "    print('Закрыл')"
   ]
  },
  {
   "cell_type": "markdown",
   "metadata": {},
   "source": [
    "# Вспомогательные элементы для майнинга данных"
   ]
  },
  {
   "cell_type": "markdown",
   "metadata": {},
   "source": [
    "* Библиотека `Selenium`: https://selenium-python.readthedocs.io/\n",
    "\n",
    "Полезные методы и рекомендации:\n",
    "    \n",
    "* `element = browser.find_elements_by_*что угодно*()` # Поиск элемента на странице\n",
    "* `element.click()` # Кликнуть по элементу (провалится по ссылке / расскрыть банер)\n",
    "* `browser.back()` # Вернуться назад \n",
    "* `pd.read_html()` # Способ загрузить таблицку из html сразу в Pandas\n",
    "* Спрашивать в чате или гуглить"
   ]
  },
  {
   "cell_type": "code",
   "execution_count": null,
   "metadata": {},
   "outputs": [],
   "source": []
  }
 ],
 "metadata": {
  "kernelspec": {
   "display_name": "Python 3 (ipykernel)",
   "language": "python",
   "name": "python3"
  },
  "language_info": {
   "codemirror_mode": {
    "name": "ipython",
    "version": 3
   },
   "file_extension": ".py",
   "mimetype": "text/x-python",
   "name": "python",
   "nbconvert_exporter": "python",
   "pygments_lexer": "ipython3",
   "version": "3.9.7"
  },
  "toc": {
   "base_numbering": 1,
   "nav_menu": {},
   "number_sections": true,
   "sideBar": true,
   "skip_h1_title": false,
   "title_cell": "Table of Contents",
   "title_sidebar": "Contents",
   "toc_cell": false,
   "toc_position": {},
   "toc_section_display": true,
   "toc_window_display": false
  }
 },
 "nbformat": 4,
 "nbformat_minor": 4
}
